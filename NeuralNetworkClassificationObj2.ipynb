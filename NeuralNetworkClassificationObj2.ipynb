{
 "cells": [
  {
   "cell_type": "markdown",
   "id": "dffa3e47",
   "metadata": {},
   "source": [
    "Script containing a Neural Network to classify between approved and rejected PA claims. \n",
    "By Apostolos Zournas"
   ]
  },
  {
   "cell_type": "code",
   "execution_count": null,
   "id": "5f17aa86",
   "metadata": {},
   "outputs": [],
   "source": [
    "import sklearn\n",
    "import pandas as pd\n",
    "import numpy as np\n",
    "import matplotlib.pyplot as plt"
   ]
  },
  {
   "cell_type": "code",
   "execution_count": 2,
   "id": "a1ac7bc9",
   "metadata": {},
   "outputs": [
    {
     "name": "stdout",
     "output_type": "stream",
     "text": [
      "<bound method NDFrame.head of          dim_claim_id     bin drug  reject_code  pharmacy_claim_approved\n",
      "0                   1  417380    A         75.0                        0\n",
      "1                   2  999001    A          NaN                        1\n",
      "2                   3  417740    A         76.0                        0\n",
      "3                   4  999001    A          NaN                        1\n",
      "4                   5  417740    A          NaN                        1\n",
      "...               ...     ...  ...          ...                      ...\n",
      "1335571       1335572  417740    C         75.0                        0\n",
      "1335572       1335573  999001    C          NaN                        1\n",
      "1335573       1335574  417380    C         70.0                        0\n",
      "1335574       1335575  999001    C          NaN                        1\n",
      "1335575       1335576  999001    C          NaN                        1\n",
      "\n",
      "[1335576 rows x 5 columns]>\n",
      "70.0    252206\n",
      "75.0    217351\n",
      "76.0     86394\n",
      "Name: reject_code, dtype: int64\n"
     ]
    }
   ],
   "source": [
    "claims = pd.read_csv('data/dim_claims.csv')\n",
    "print(claims.head)\n",
    "print(claims['reject_code'].value_counts())"
   ]
  },
  {
   "cell_type": "code",
   "execution_count": 3,
   "id": "3d9136ea",
   "metadata": {},
   "outputs": [
    {
     "data": {
      "text/plain": [
       "<bound method NDFrame.head of         dim_pa_id  correct_diagnosis  tried_and_failed  contraindication  \\\n",
       "0               1                  1                 1                 0   \n",
       "1               2                  1                 0                 0   \n",
       "2               3                  0                 0                 1   \n",
       "3               4                  1                 1                 0   \n",
       "4               5                  0                 1                 0   \n",
       "...           ...                ...               ...               ...   \n",
       "555946     555947                  1                 0                 1   \n",
       "555947     555948                  1                 0                 1   \n",
       "555948     555949                  1                 1                 1   \n",
       "555949     555950                  1                 0                 0   \n",
       "555950     555951                  0                 0                 1   \n",
       "\n",
       "        pa_approved  \n",
       "0                 1  \n",
       "1                 1  \n",
       "2                 1  \n",
       "3                 1  \n",
       "4                 1  \n",
       "...             ...  \n",
       "555946            0  \n",
       "555947            1  \n",
       "555948            1  \n",
       "555949            1  \n",
       "555950            0  \n",
       "\n",
       "[555951 rows x 5 columns]>"
      ]
     },
     "execution_count": 3,
     "metadata": {},
     "output_type": "execute_result"
    }
   ],
   "source": [
    "pa = pd.read_csv('data/dim_pa.csv')\n",
    "pa.head"
   ]
  },
  {
   "cell_type": "code",
   "execution_count": 4,
   "id": "8954c5ac",
   "metadata": {},
   "outputs": [
    {
     "data": {
      "text/plain": [
       "<bound method NDFrame.head of          dim_claim_id  dim_pa_id  dim_date_id\n",
       "0                   1        1.0            1\n",
       "1                   2        NaN            1\n",
       "2                   3        2.0            1\n",
       "3                   4        NaN            1\n",
       "4                   5        NaN            1\n",
       "...               ...        ...          ...\n",
       "1335571       1335572   555950.0         1095\n",
       "1335572       1335573        NaN         1095\n",
       "1335573       1335574   555951.0         1095\n",
       "1335574       1335575        NaN         1095\n",
       "1335575       1335576        NaN         1095\n",
       "\n",
       "[1335576 rows x 3 columns]>"
      ]
     },
     "execution_count": 4,
     "metadata": {},
     "output_type": "execute_result"
    }
   ],
   "source": [
    "bridge = pd.read_csv('data/bridge.csv')\n",
    "bridge.head"
   ]
  },
  {
   "cell_type": "code",
   "execution_count": 5,
   "id": "bb55e592",
   "metadata": {},
   "outputs": [
    {
     "data": {
      "text/plain": [
       "<bound method NDFrame.head of          dim_claim_id  dim_pa_id  dim_date_id\n",
       "0                   1        1.0            1\n",
       "1                   2        NaN            1\n",
       "2                   3        2.0            1\n",
       "3                   4        NaN            1\n",
       "4                   5        NaN            1\n",
       "...               ...        ...          ...\n",
       "1335571       1335572   555950.0         1095\n",
       "1335572       1335573        NaN         1095\n",
       "1335573       1335574   555951.0         1095\n",
       "1335574       1335575        NaN         1095\n",
       "1335575       1335576        NaN         1095\n",
       "\n",
       "[1335576 rows x 3 columns]>"
      ]
     },
     "execution_count": 5,
     "metadata": {},
     "output_type": "execute_result"
    }
   ],
   "source": [
    "dates = pd.read_csv('data/dim_date.csv')\n",
    "bridge.head"
   ]
  },
  {
   "cell_type": "code",
   "execution_count": 6,
   "id": "c07f8fcb",
   "metadata": {},
   "outputs": [],
   "source": [
    "idx = np.where(bridge['dim_pa_id'].values == bridge['dim_pa_id'].values)\n",
    "df = bridge.copy()\n"
   ]
  },
  {
   "cell_type": "code",
   "execution_count": 7,
   "id": "6c5c14bf",
   "metadata": {},
   "outputs": [],
   "source": [
    "tried_and_failed = np.zeros((len(claims)))\n",
    "tried_and_failed[:] = np.nan\n",
    "tried_and_failed[idx[0]] = pa['tried_and_failed'].values\n",
    "tried_and_failed = tried_and_failed.reshape(-1,1)"
   ]
  },
  {
   "cell_type": "code",
   "execution_count": 8,
   "id": "9865c4db",
   "metadata": {},
   "outputs": [],
   "source": [
    "correct_diagnosis = np.zeros((len(claims)))\n",
    "correct_diagnosis[:] = np.nan\n",
    "correct_diagnosis[idx[0]] = pa['correct_diagnosis'].values\n",
    "correct_diagnosis = correct_diagnosis.reshape(-1,1)"
   ]
  },
  {
   "cell_type": "code",
   "execution_count": 9,
   "id": "5f82c7d4",
   "metadata": {},
   "outputs": [
    {
     "data": {
      "text/plain": [
       "0         0\n",
       "1         0\n",
       "2         1\n",
       "3         0\n",
       "4         0\n",
       "         ..\n",
       "555946    1\n",
       "555947    1\n",
       "555948    1\n",
       "555949    0\n",
       "555950    1\n",
       "Name: contraindication, Length: 555951, dtype: int64"
      ]
     },
     "execution_count": 9,
     "metadata": {},
     "output_type": "execute_result"
    }
   ],
   "source": [
    "contraindication = np.zeros((len(claims)))\n",
    "contraindication[:] = np.nan\n",
    "contraindication[idx[0]] = pa['contraindication'].values\n",
    "contraindication = contraindication.reshape(-1,1)  \n",
    "pa['contraindication']\n",
    "#contraindication"
   ]
  },
  {
   "cell_type": "code",
   "execution_count": 10,
   "id": "45fb85f7",
   "metadata": {},
   "outputs": [],
   "source": [
    "pa_approved = np.zeros((len(claims)))\n",
    "pa_approved[:] = np.nan\n",
    "pa_approved[idx[0]] = pa['pa_approved'].values\n",
    "pa_approved = pa_approved.reshape(-1,1)"
   ]
  },
  {
   "cell_type": "code",
   "execution_count": 11,
   "id": "dcd3fd4f",
   "metadata": {},
   "outputs": [
    {
     "data": {
      "text/html": [
       "<div>\n",
       "<style scoped>\n",
       "    .dataframe tbody tr th:only-of-type {\n",
       "        vertical-align: middle;\n",
       "    }\n",
       "\n",
       "    .dataframe tbody tr th {\n",
       "        vertical-align: top;\n",
       "    }\n",
       "\n",
       "    .dataframe thead th {\n",
       "        text-align: right;\n",
       "    }\n",
       "</style>\n",
       "<table border=\"1\" class=\"dataframe\">\n",
       "  <thead>\n",
       "    <tr style=\"text-align: right;\">\n",
       "      <th></th>\n",
       "      <th>dim_claim_id</th>\n",
       "      <th>bin</th>\n",
       "      <th>drug</th>\n",
       "      <th>reject_code</th>\n",
       "      <th>pharmacy_claim_approved</th>\n",
       "      <th>tried_and_failed</th>\n",
       "      <th>correct_diagnosis</th>\n",
       "      <th>contraindication</th>\n",
       "      <th>pa_approved</th>\n",
       "    </tr>\n",
       "  </thead>\n",
       "  <tbody>\n",
       "    <tr>\n",
       "      <th>0</th>\n",
       "      <td>1</td>\n",
       "      <td>417380</td>\n",
       "      <td>A</td>\n",
       "      <td>75.0</td>\n",
       "      <td>0</td>\n",
       "      <td>1.0</td>\n",
       "      <td>1.0</td>\n",
       "      <td>0.0</td>\n",
       "      <td>1.0</td>\n",
       "    </tr>\n",
       "    <tr>\n",
       "      <th>1</th>\n",
       "      <td>2</td>\n",
       "      <td>999001</td>\n",
       "      <td>A</td>\n",
       "      <td>NaN</td>\n",
       "      <td>1</td>\n",
       "      <td>NaN</td>\n",
       "      <td>NaN</td>\n",
       "      <td>NaN</td>\n",
       "      <td>NaN</td>\n",
       "    </tr>\n",
       "    <tr>\n",
       "      <th>2</th>\n",
       "      <td>3</td>\n",
       "      <td>417740</td>\n",
       "      <td>A</td>\n",
       "      <td>76.0</td>\n",
       "      <td>0</td>\n",
       "      <td>0.0</td>\n",
       "      <td>1.0</td>\n",
       "      <td>0.0</td>\n",
       "      <td>1.0</td>\n",
       "    </tr>\n",
       "    <tr>\n",
       "      <th>3</th>\n",
       "      <td>4</td>\n",
       "      <td>999001</td>\n",
       "      <td>A</td>\n",
       "      <td>NaN</td>\n",
       "      <td>1</td>\n",
       "      <td>NaN</td>\n",
       "      <td>NaN</td>\n",
       "      <td>NaN</td>\n",
       "      <td>NaN</td>\n",
       "    </tr>\n",
       "    <tr>\n",
       "      <th>4</th>\n",
       "      <td>5</td>\n",
       "      <td>417740</td>\n",
       "      <td>A</td>\n",
       "      <td>NaN</td>\n",
       "      <td>1</td>\n",
       "      <td>NaN</td>\n",
       "      <td>NaN</td>\n",
       "      <td>NaN</td>\n",
       "      <td>NaN</td>\n",
       "    </tr>\n",
       "  </tbody>\n",
       "</table>\n",
       "</div>"
      ],
      "text/plain": [
       "   dim_claim_id     bin drug  reject_code  pharmacy_claim_approved  \\\n",
       "0             1  417380    A         75.0                        0   \n",
       "1             2  999001    A          NaN                        1   \n",
       "2             3  417740    A         76.0                        0   \n",
       "3             4  999001    A          NaN                        1   \n",
       "4             5  417740    A          NaN                        1   \n",
       "\n",
       "   tried_and_failed  correct_diagnosis  contraindication  pa_approved  \n",
       "0               1.0                1.0               0.0          1.0  \n",
       "1               NaN                NaN               NaN          NaN  \n",
       "2               0.0                1.0               0.0          1.0  \n",
       "3               NaN                NaN               NaN          NaN  \n",
       "4               NaN                NaN               NaN          NaN  "
      ]
     },
     "execution_count": 11,
     "metadata": {},
     "output_type": "execute_result"
    }
   ],
   "source": [
    "claims['tried_and_failed'] = tried_and_failed\n",
    "claims['correct_diagnosis'] = correct_diagnosis\n",
    "claims['contraindication'] = contraindication\n",
    "claims['pa_approved'] = pa_approved\n",
    "claims.head()"
   ]
  },
  {
   "cell_type": "code",
   "execution_count": 12,
   "id": "92fc6d46",
   "metadata": {},
   "outputs": [
    {
     "data": {
      "text/html": [
       "<div>\n",
       "<style scoped>\n",
       "    .dataframe tbody tr th:only-of-type {\n",
       "        vertical-align: middle;\n",
       "    }\n",
       "\n",
       "    .dataframe tbody tr th {\n",
       "        vertical-align: top;\n",
       "    }\n",
       "\n",
       "    .dataframe thead th {\n",
       "        text-align: right;\n",
       "    }\n",
       "</style>\n",
       "<table border=\"1\" class=\"dataframe\">\n",
       "  <thead>\n",
       "    <tr style=\"text-align: right;\">\n",
       "      <th></th>\n",
       "      <th>dim_claim_id</th>\n",
       "      <th>pharmacy_claim_approved</th>\n",
       "      <th>tried_and_failed</th>\n",
       "      <th>correct_diagnosis</th>\n",
       "      <th>contraindication</th>\n",
       "      <th>pa_approved</th>\n",
       "      <th>reject_code_70.0</th>\n",
       "      <th>reject_code_75.0</th>\n",
       "      <th>reject_code_76.0</th>\n",
       "      <th>drug_A</th>\n",
       "      <th>drug_B</th>\n",
       "      <th>drug_C</th>\n",
       "      <th>bin_417380</th>\n",
       "      <th>bin_417614</th>\n",
       "      <th>bin_417740</th>\n",
       "      <th>bin_999001</th>\n",
       "    </tr>\n",
       "  </thead>\n",
       "  <tbody>\n",
       "    <tr>\n",
       "      <th>0</th>\n",
       "      <td>1</td>\n",
       "      <td>0</td>\n",
       "      <td>1.0</td>\n",
       "      <td>1.0</td>\n",
       "      <td>0.0</td>\n",
       "      <td>1.0</td>\n",
       "      <td>0</td>\n",
       "      <td>1</td>\n",
       "      <td>0</td>\n",
       "      <td>1</td>\n",
       "      <td>0</td>\n",
       "      <td>0</td>\n",
       "      <td>1</td>\n",
       "      <td>0</td>\n",
       "      <td>0</td>\n",
       "      <td>0</td>\n",
       "    </tr>\n",
       "    <tr>\n",
       "      <th>1</th>\n",
       "      <td>2</td>\n",
       "      <td>1</td>\n",
       "      <td>NaN</td>\n",
       "      <td>NaN</td>\n",
       "      <td>NaN</td>\n",
       "      <td>NaN</td>\n",
       "      <td>0</td>\n",
       "      <td>0</td>\n",
       "      <td>0</td>\n",
       "      <td>1</td>\n",
       "      <td>0</td>\n",
       "      <td>0</td>\n",
       "      <td>0</td>\n",
       "      <td>0</td>\n",
       "      <td>0</td>\n",
       "      <td>1</td>\n",
       "    </tr>\n",
       "    <tr>\n",
       "      <th>2</th>\n",
       "      <td>3</td>\n",
       "      <td>0</td>\n",
       "      <td>0.0</td>\n",
       "      <td>1.0</td>\n",
       "      <td>0.0</td>\n",
       "      <td>1.0</td>\n",
       "      <td>0</td>\n",
       "      <td>0</td>\n",
       "      <td>1</td>\n",
       "      <td>1</td>\n",
       "      <td>0</td>\n",
       "      <td>0</td>\n",
       "      <td>0</td>\n",
       "      <td>0</td>\n",
       "      <td>1</td>\n",
       "      <td>0</td>\n",
       "    </tr>\n",
       "    <tr>\n",
       "      <th>3</th>\n",
       "      <td>4</td>\n",
       "      <td>1</td>\n",
       "      <td>NaN</td>\n",
       "      <td>NaN</td>\n",
       "      <td>NaN</td>\n",
       "      <td>NaN</td>\n",
       "      <td>0</td>\n",
       "      <td>0</td>\n",
       "      <td>0</td>\n",
       "      <td>1</td>\n",
       "      <td>0</td>\n",
       "      <td>0</td>\n",
       "      <td>0</td>\n",
       "      <td>0</td>\n",
       "      <td>0</td>\n",
       "      <td>1</td>\n",
       "    </tr>\n",
       "    <tr>\n",
       "      <th>4</th>\n",
       "      <td>5</td>\n",
       "      <td>1</td>\n",
       "      <td>NaN</td>\n",
       "      <td>NaN</td>\n",
       "      <td>NaN</td>\n",
       "      <td>NaN</td>\n",
       "      <td>0</td>\n",
       "      <td>0</td>\n",
       "      <td>0</td>\n",
       "      <td>1</td>\n",
       "      <td>0</td>\n",
       "      <td>0</td>\n",
       "      <td>0</td>\n",
       "      <td>0</td>\n",
       "      <td>1</td>\n",
       "      <td>0</td>\n",
       "    </tr>\n",
       "  </tbody>\n",
       "</table>\n",
       "</div>"
      ],
      "text/plain": [
       "   dim_claim_id  pharmacy_claim_approved  tried_and_failed  correct_diagnosis  \\\n",
       "0             1                        0               1.0                1.0   \n",
       "1             2                        1               NaN                NaN   \n",
       "2             3                        0               0.0                1.0   \n",
       "3             4                        1               NaN                NaN   \n",
       "4             5                        1               NaN                NaN   \n",
       "\n",
       "   contraindication  pa_approved  reject_code_70.0  reject_code_75.0  \\\n",
       "0               0.0          1.0                 0                 1   \n",
       "1               NaN          NaN                 0                 0   \n",
       "2               0.0          1.0                 0                 0   \n",
       "3               NaN          NaN                 0                 0   \n",
       "4               NaN          NaN                 0                 0   \n",
       "\n",
       "   reject_code_76.0  drug_A  drug_B  drug_C  bin_417380  bin_417614  \\\n",
       "0                 0       1       0       0           1           0   \n",
       "1                 0       1       0       0           0           0   \n",
       "2                 1       1       0       0           0           0   \n",
       "3                 0       1       0       0           0           0   \n",
       "4                 0       1       0       0           0           0   \n",
       "\n",
       "   bin_417740  bin_999001  \n",
       "0           0           0  \n",
       "1           0           1  \n",
       "2           1           0  \n",
       "3           0           1  \n",
       "4           1           0  "
      ]
     },
     "execution_count": 12,
     "metadata": {},
     "output_type": "execute_result"
    }
   ],
   "source": [
    "claims_1hot = pd.get_dummies(data=claims, columns=['reject_code', 'drug', 'bin'])\n",
    "y_data_70 = claims_1hot['reject_code_70.0']\n",
    "y_data_75 = claims_1hot['reject_code_75.0']\n",
    "y_data_76 = claims_1hot['reject_code_76.0']\n",
    "claims_1hot_no_nans = claims_1hot.replace(np.nan, 0)\n",
    "claims_1hot.head()"
   ]
  },
  {
   "cell_type": "code",
   "execution_count": 13,
   "id": "da4c508f",
   "metadata": {},
   "outputs": [
    {
     "name": "stdout",
     "output_type": "stream",
     "text": [
      "1335576 1335576 1335576\n"
     ]
    }
   ],
   "source": [
    "X_data = claims_1hot_no_nans[['pharmacy_claim_approved', 'tried_and_failed', 'correct_diagnosis', 'contraindication', 'pa_approved', 'drug_A', 'drug_B', 'drug_C']]\n",
    "y_data_70 = claims_1hot_no_nans['reject_code_70.0']\n",
    "y_data_75 = claims_1hot_no_nans['reject_code_75.0']\n",
    "y_data_76 = claims_1hot_no_nans['reject_code_76.0']\n",
    "print(len(y_data_70), len(y_data_75), len(y_data_76))\n"
   ]
  },
  {
   "cell_type": "code",
   "execution_count": 14,
   "id": "3e199fe7",
   "metadata": {},
   "outputs": [
    {
     "data": {
      "text/plain": [
       "(133557,)"
      ]
     },
     "execution_count": 14,
     "metadata": {},
     "output_type": "execute_result"
    }
   ],
   "source": [
    "from sklearn.model_selection import train_test_split\n",
    "\n",
    "X_train, X_test, y_train_70, y_test_70 = train_test_split(X_data, y_data_70, test_size=0.9, random_state=42)\n",
    "y_train_75 = y_data_75[y_train_70.index]\n",
    "y_test_75 = y_data_75[y_test_70.index]\n",
    "y_train_76 = y_data_76[y_train_70.index]\n",
    "y_test_76 = y_data_76[y_test_70.index]\n",
    "\n",
    "y_train_70.shape\n"
   ]
  },
  {
   "cell_type": "code",
   "execution_count": 15,
   "id": "5ae20faf",
   "metadata": {},
   "outputs": [],
   "source": [
    "from sklearn.svm import SVC\n",
    "from joblib import dump, load\n",
    "from sklearn.metrics import classification_report, confusion_matrix\n"
   ]
  },
  {
   "cell_type": "code",
   "execution_count": 16,
   "id": "2cf4b5ec",
   "metadata": {},
   "outputs": [],
   "source": [
    "claims[claims['pa_approved'] == 1]['reject_code'].value_counts()\n",
    "\n",
    "#3 categories: approved, pa_approved, rejected\n",
    "#Drug, bin (Health insurance company), correct_diagnosis, tried_and_failed, contraindication\n",
    "X_data_cols_pa = ['tried_and_failed', 'correct_diagnosis', 'contraindication', 'drug_A', 'drug_B', 'drug_C', 'bin_417380', 'bin_417614', 'bin_417740', 'bin_999001']\n",
    "X_data_cols = ['drug_A', 'drug_B', 'drug_C', 'bin_417380', 'bin_417614', 'bin_417740', 'bin_999001']\n",
    "X_data_pharm = claims_1hot_no_nans[X_data_cols].values\n",
    "claims_1hot_no_nans.head()\n",
    "y_data_pharm = claims_1hot_no_nans['pharmacy_claim_approved'].values\n",
    "\n",
    "claims_1hot_no_nans_rejected = claims_1hot_no_nans[claims_1hot_no_nans['pharmacy_claim_approved']==0]\n",
    "X_data_rejected = claims_1hot_no_nans_rejected[X_data_cols_pa].values\n",
    "y_data_70 = claims_1hot_no_nans_rejected['reject_code_70.0']\n",
    "y_data_75 = claims_1hot_no_nans_rejected['reject_code_75.0']\n",
    "y_data_76 = claims_1hot_no_nans_rejected['reject_code_76.0']\n",
    "y_data_pa = claims_1hot_no_nans_rejected['pa_approved'].values"
   ]
  },
  {
   "cell_type": "code",
   "execution_count": 17,
   "id": "c9923a78",
   "metadata": {},
   "outputs": [
    {
     "data": {
      "text/plain": [
       "array([0, 1, 0, ..., 0, 1, 1], dtype=int64)"
      ]
     },
     "execution_count": 17,
     "metadata": {},
     "output_type": "execute_result"
    }
   ],
   "source": [
    "y_data_pharm"
   ]
  },
  {
   "cell_type": "code",
   "execution_count": 18,
   "id": "69048739",
   "metadata": {},
   "outputs": [],
   "source": [
    "#import all necessary libraries\n",
    "import torch\n",
    "import torch.nn as nn\n",
    "import torch.optim as optim\n",
    "import torch.nn.functional as F\n",
    "from torch.utils.data import DataLoader, Dataset, TensorDataset\n",
    "import torchvision.datasets as datasets\n",
    "import torchvision.transforms as transforms\n",
    "from datetime import date, datetime"
   ]
  },
  {
   "cell_type": "code",
   "execution_count": 19,
   "id": "3c3c902c",
   "metadata": {},
   "outputs": [
    {
     "name": "stdout",
     "output_type": "stream",
     "text": [
      "Using device: cuda\n",
      "\n",
      "NVIDIA GeForce RTX 3080\n",
      "Memory Usage:\n",
      "Allocated: 0.0 GB\n",
      "Cached:    0.0 GB\n"
     ]
    }
   ],
   "source": [
    "#set the device that the NN will be trained on\n",
    "device = torch.device('cuda' if torch.cuda.is_available() else 'cpu')\n",
    "#device = torch.device('cpu')\n",
    "print('Using device:', device)\n",
    "print()\n",
    "\n",
    "if device.type == 'cuda':\n",
    "    print(torch.cuda.get_device_name(0))\n",
    "    print('Memory Usage:')\n",
    "    print('Allocated:', round(torch.cuda.memory_allocated(0)/1024**3,1), 'GB')\n",
    "    print('Cached:   ', round(torch.cuda.memory_reserved(0)/1024**3,1), 'GB')"
   ]
  },
  {
   "cell_type": "code",
   "execution_count": 20,
   "id": "928b6c8d",
   "metadata": {},
   "outputs": [],
   "source": [
    "# define the Fully connected network\n",
    "\n",
    "class NN(nn.Module):\n",
    "    def __init__(self, input_size, num_classes): \n",
    "        super(NN, self).__init__() #initialize parent class\n",
    "        self.fc1 = nn.Linear(input_size,50)\n",
    "        self.fc2 = nn.Linear(50, num_classes)\n",
    "    \n",
    "    def forward(self,x):\n",
    "        x = F.relu(self.fc1(x))\n",
    "        x = torch.sigmoid(self.fc2(x))\n",
    "        return x\n",
    "\n",
    "    \n",
    "    \n",
    "    "
   ]
  },
  {
   "cell_type": "code",
   "execution_count": 21,
   "id": "3d1b5148",
   "metadata": {},
   "outputs": [],
   "source": [
    "#define hyperparameters\n",
    "\n",
    "input_size = 10 # same as len of X_data_cols\n",
    "num_classes = 1 # pa_aproved or not\n",
    "learning_rate = 0.001\n",
    "batch_size = 128\n",
    "num_epochs = 100\n"
   ]
  },
  {
   "cell_type": "code",
   "execution_count": 22,
   "id": "93184762",
   "metadata": {},
   "outputs": [],
   "source": [
    "# Define a custom dataset class, a child class of torch.utils.data.Dataset\n",
    "\n",
    "class CMM_Dataset(Dataset):\n",
    "    def __init__(self, X, y, max_length):      \n",
    "        self.X = X  \n",
    "        self.y = y\n",
    "        self.max_length = max_length\n",
    "\n",
    "    def __len__(self):  # This defines the \"size\" of the dataset. \n",
    "        return len(self.X)\n",
    "    \n",
    "    def __getitem__(self, index):  # This returns a single indexed example.\n",
    "        X = torch.tensor(self.X[index])  \n",
    "        y = torch.tensor(self.y[index])\n",
    "        return sent_padded, label\n"
   ]
  },
  {
   "cell_type": "code",
   "execution_count": 23,
   "id": "c853c610",
   "metadata": {},
   "outputs": [],
   "source": [
    "#define the data for the NN\n",
    "#split data\n",
    "test_train_ratio = 0.3\n",
    "X_data_rejected_train, X_data_rejected_test, y_data_pa_train, y_data_pa_test = train_test_split(X_data_rejected, y_data_pa, test_size=test_train_ratio)\n",
    "\n",
    "X_data_rejected_train_train, X_data_rejected_train_val, y_data_pa_train_train, y_data_pa_train_val = train_test_split(X_data_rejected_train, y_data_pa_train, test_size=0.1)\n",
    "\n",
    "# transform the data to tensor to be taken into pytorch\n",
    "# All the arguments formerly had values suffixed\n",
    "\n",
    "X_data_NN_train_train = torch.from_numpy(X_data_rejected_train_train)\n",
    "X_data_NN_train_val = torch.from_numpy(X_data_rejected_train_val)\n",
    "X_data_NN_test_test = torch.from_numpy(X_data_rejected_test)\n",
    "y_data_NN_train_train = torch.from_numpy(y_data_pa_train_train)\n",
    "y_data_NN_train_val = torch.from_numpy(y_data_pa_train_val)\n",
    "y_data_NN_train_test = torch.from_numpy(y_data_pa_test)\n",
    "\n",
    "#create the datasets\n",
    "train_data = TensorDataset(X_data_NN_train_train.float(), y_data_NN_train_train.float())\n",
    "val_data = TensorDataset(X_data_NN_train_val.float(), y_data_NN_train_val.float())\n",
    "test_data = TensorDataset(X_data_NN_test_test.float(), y_data_NN_train_test.float())\n",
    "\n",
    "#set up the data loaders\n",
    "train_loader = DataLoader(dataset = train_data, batch_size=batch_size, shuffle=True)\n",
    "val_loader = DataLoader(dataset = val_data, batch_size=batch_size, shuffle=False)\n",
    "test_loader = DataLoader(dataset = test_data, batch_size=batch_size, shuffle=False)"
   ]
  },
  {
   "cell_type": "code",
   "execution_count": 24,
   "id": "b6d7132c",
   "metadata": {},
   "outputs": [
    {
     "data": {
      "text/plain": [
       "tensor([1., 1., 1., 1., 0., 0., 0., 0., 0., 1.])"
      ]
     },
     "execution_count": 24,
     "metadata": {},
     "output_type": "execute_result"
    }
   ],
   "source": [
    "foo = X_data_NN_train_train.float()\n",
    "foo.to(device)\n",
    "foo[0]"
   ]
  },
  {
   "cell_type": "code",
   "execution_count": 25,
   "id": "9396c9ab",
   "metadata": {},
   "outputs": [],
   "source": [
    "#Initialize model\n",
    "\n",
    "model = NN(input_size=10, num_classes=1).to(device)"
   ]
  },
  {
   "cell_type": "code",
   "execution_count": 26,
   "id": "7ab06564",
   "metadata": {},
   "outputs": [],
   "source": [
    "#define Loss and optimizer\n",
    "criterion = nn.BCEWithLogitsLoss()\n",
    "optimizer = optim.Adam(model.parameters(), lr=learning_rate)"
   ]
  },
  {
   "cell_type": "code",
   "execution_count": 27,
   "id": "f4389206",
   "metadata": {},
   "outputs": [
    {
     "data": {
      "text/plain": [
       "tensor([1., 1., 1., 1., 0., 0., 0., 0., 0., 1.], device='cuda:0')"
      ]
     },
     "execution_count": 27,
     "metadata": {},
     "output_type": "execute_result"
    }
   ],
   "source": [
    "x = train_data[0][0].to(device)\n",
    "x = x.float()\n",
    "x.to(device)"
   ]
  },
  {
   "cell_type": "code",
   "execution_count": 28,
   "id": "95bcccdc",
   "metadata": {},
   "outputs": [
    {
     "data": {
      "text/plain": [
       "tensor([0.5596], device='cuda:0', grad_fn=<SigmoidBackward>)"
      ]
     },
     "execution_count": 28,
     "metadata": {},
     "output_type": "execute_result"
    }
   ],
   "source": [
    "y_pred = model.forward(x)\n",
    "y_pred"
   ]
  },
  {
   "cell_type": "code",
   "execution_count": 29,
   "id": "17f35869",
   "metadata": {},
   "outputs": [
    {
     "name": "stdout",
     "output_type": "stream",
     "text": [
      "0\n",
      "1\n",
      "2\n",
      "3\n",
      "4\n",
      "5\n",
      "6\n",
      "7\n",
      "8\n",
      "9\n",
      "10\n",
      "11\n",
      "12\n",
      "13\n",
      "14\n",
      "15\n",
      "16\n",
      "17\n",
      "18\n",
      "19\n",
      "20\n",
      "21\n",
      "22\n",
      "23\n",
      "24\n",
      "25\n",
      "26\n",
      "27\n",
      "28\n",
      "29\n",
      "30\n",
      "31\n",
      "32\n",
      "33\n",
      "34\n",
      "35\n",
      "36\n",
      "37\n",
      "38\n",
      "39\n",
      "40\n",
      "41\n",
      "42\n",
      "43\n",
      "44\n",
      "45\n",
      "46\n",
      "47\n",
      "48\n",
      "49\n",
      "50\n",
      "51\n",
      "52\n",
      "53\n",
      "54\n",
      "55\n",
      "56\n",
      "57\n",
      "58\n",
      "59\n",
      "60\n",
      "61\n",
      "62\n",
      "63\n",
      "64\n",
      "65\n",
      "66\n",
      "67\n",
      "68\n",
      "69\n",
      "70\n",
      "71\n",
      "72\n",
      "73\n",
      "74\n",
      "75\n",
      "76\n",
      "77\n",
      "78\n",
      "79\n",
      "80\n",
      "81\n",
      "82\n",
      "83\n",
      "84\n",
      "85\n",
      "86\n",
      "87\n",
      "88\n",
      "89\n",
      "90\n",
      "91\n",
      "92\n",
      "93\n",
      "94\n",
      "95\n",
      "96\n",
      "97\n",
      "98\n",
      "99\n"
     ]
    }
   ],
   "source": [
    "for epoch in range(num_epochs):\n",
    "    print(epoch)\n",
    "    for batch_idx, (data,targets) in enumerate(train_loader):\n",
    "        #print(batch_idx)\n",
    "        #print(data)\n",
    "        #get data to cuda if possible\n",
    "        data = data.to(device=device)\n",
    "        targets=targets.reshape((-1,1)).to(device=device)\n",
    "        \n",
    "        #forward\n",
    "        scores = model.forward(data)\n",
    "        #print(scores-targets)\n",
    "        #print(targets.shape)\n",
    "        loss = criterion(scores, targets)\n",
    "        \n",
    "        #backward\n",
    "        optimizer.zero_grad()\n",
    "        loss.backward()\n",
    "        \n",
    "        #grad_descent\n",
    "        optimizer.step()"
   ]
  },
  {
   "cell_type": "code",
   "execution_count": 30,
   "id": "450291a7",
   "metadata": {},
   "outputs": [],
   "source": [
    "#check accuracy on training and test data \n",
    "def check_accuracy(loader,model):\n",
    "    num_correct = 0\n",
    "    num_samples = 0\n",
    "    model.eval()\n",
    "    counter = 0\n",
    "    with torch.no_grad():\n",
    "        for x,y in loader:\n",
    "            x = x.to(device=device)\n",
    "            y = y\n",
    "            \n",
    "            scores = model.forward(x)\n",
    "            predictions = np.zeros(scores.size())\n",
    "            idcs = np.where(scores.cpu()>0.5)\n",
    "            predictions[idcs] = 1\n",
    "            #print(scores)\n",
    "            #print(predictions)\n",
    "            #print(y)\n",
    "            #print(np.where(predictions == y))\n",
    "            incorrect = (np.abs(np.reshape(predictions, (-1,1)) - np.reshape(y.numpy(),(-1,1))).sum())\n",
    "            #print(incorrect)\n",
    "            num_correct += scores.size(0)-incorrect\n",
    "\n",
    "            num_samples += scores.size(0)\n",
    "            \n",
    "            counter +=1\n",
    "\n",
    "        print(f'Got {num_correct}/{num_samples} with accuracy {float(num_correct)/float(num_samples)*100} %')\n",
    "    \n",
    "    model.train()\n",
    "    return num_correct/num_samples\n",
    "        "
   ]
  },
  {
   "cell_type": "code",
   "execution_count": 31,
   "id": "71061204",
   "metadata": {},
   "outputs": [],
   "source": [
    "scores\n",
    "predictions = np.zeros(scores.size())\n",
    "idcs = np.where(scores.cpu()>0.5)\n",
    "predictions[idcs] = 1"
   ]
  },
  {
   "cell_type": "code",
   "execution_count": 32,
   "id": "e5584026",
   "metadata": {},
   "outputs": [
    {
     "name": "stdout",
     "output_type": "stream",
     "text": [
      "Got 278344.0/350248 with accuracy 79.47054658413467 %\n",
      "Got 30879.0/38917 with accuracy 79.3457871881183 %\n",
      "Got 132399.0/166786 with accuracy 79.38256208554675 %\n"
     ]
    },
    {
     "data": {
      "text/plain": [
       "0.7938256208554675"
      ]
     },
     "execution_count": 32,
     "metadata": {},
     "output_type": "execute_result"
    }
   ],
   "source": [
    "check_accuracy(train_loader, model)\n",
    "check_accuracy(val_loader, model)\n",
    "check_accuracy(test_loader, model)"
   ]
  },
  {
   "cell_type": "code",
   "execution_count": 71,
   "id": "69bce85b",
   "metadata": {},
   "outputs": [
    {
     "name": "stdout",
     "output_type": "stream",
     "text": [
      "              precision    recall  f1-score   support\n",
      "\n",
      "         0.0       0.44      0.96      0.60     44137\n",
      "         1.0       0.97      0.56      0.71    122649\n",
      "\n",
      "    accuracy                           0.67    166786\n",
      "   macro avg       0.71      0.76      0.66    166786\n",
      "weighted avg       0.83      0.67      0.68    166786\n",
      "\n",
      "[[42184  1953]\n",
      " [53858 68791]]\n"
     ]
    }
   ],
   "source": [
    "y_pred = model(X_data_NN_test_test.float().to(device))\n",
    "y_real = y_data_pa_test\n",
    "y_pred = y_pred.cpu().detach().numpy().reshape((1,-1))\n",
    "ypred_2 = []\n",
    "for i in range(len(y_pred[0])):\n",
    "    if y_pred[0][i]==True:\n",
    "        ypred_2.append(1)\n",
    "    else:\n",
    "        ypred_2.append(0)\n",
    "print(classification_report(y_real, ypred_2))\n",
    "print(confusion_matrix(y_real, ypred_2))"
   ]
  },
  {
   "cell_type": "code",
   "execution_count": 93,
   "id": "32eb7075",
   "metadata": {},
   "outputs": [
    {
     "data": {
      "text/plain": [
       "([<matplotlib.axis.XTick at 0x163957e8ca0>,\n",
       "  <matplotlib.axis.XTick at 0x163957e8c70>,\n",
       "  <matplotlib.axis.XTick at 0x1637a078dc0>],\n",
       " [Text(0.25, 0, ''), Text(1.25, 0, ''), Text(2.25, 0, '')])"
      ]
     },
     "execution_count": 93,
     "metadata": {},
     "output_type": "execute_result"
    },
    {
     "data": {
      "image/png": "[encoded data removed]",
      "text/plain": [
       "<Figure size 864x576 with 1 Axes>"
      ]
     },
     "metadata": {
      "needs_background": "light"
     },
     "output_type": "display_data"
    }
   ],
   "source": [
    "SVM_acc = 93.4\n",
    "NN_acc_1 = 93.5\n",
    "NN_acc_2 = 79.4\n",
    "barWidth = 0.25\n",
    "accs = [SVM_acc, NN_acc_1, NN_acc_2]\n",
    "fig = plt.subplots(figsize =(12, 8))\n",
    "br1 = np.arange(len(accs))+.25\n",
    "plt.bar(br1, accs, color ='k', width = barWidth,\n",
    "        edgecolor ='grey', label ='RNN - 7 days predicted')\n",
    "#plt.title('RNN predicts 7 days, HWS predicts 185 days')\n",
    "plt.ylabel('Accuracy',  fontsize = 15)\n",
    "plt.xticks([r + barWidth for r in range(len(accs))],\n",
    "        ['', '', ''])\n"
   ]
  }
 ],
 "metadata": {
  "kernelspec": {
   "display_name": "Python 3",
   "language": "python",
   "name": "python3"
  },
  "language_info": {
   "codemirror_mode": {
    "name": "ipython",
    "version": 3
   },
   "file_extension": ".py",
   "mimetype": "text/x-python",
   "name": "python",
   "nbconvert_exporter": "python",
   "pygments_lexer": "ipython3",
   "version": "3.8.8"
  }
 },
 "nbformat": 4,
 "nbformat_minor": 5
}
